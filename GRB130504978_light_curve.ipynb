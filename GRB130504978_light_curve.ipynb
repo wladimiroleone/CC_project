{
 "cells": [
  {
   "cell_type": "code",
   "execution_count": 1,
   "id": "72f2a8b5",
   "metadata": {},
   "outputs": [
    {
     "name": "stderr",
     "output_type": "stream",
     "text": [
      "/home/wlad98/gbm/lib/python3.8/site-packages/gbm/plot/lal_post_subs.py:184: UserWarning: Basemap not installed. Some functionality not available.\n",
      "  warnings.warn('Basemap not installed. Some functionality not available.')\n"
     ]
    }
   ],
   "source": [
    "from gbm import test_data_dir\n",
    "from gbm.data import TTE\n",
    "from gbm.binning.unbinned import bin_by_time\n",
    "import matplotlib.pyplot as plt"
   ]
  },
  {
   "cell_type": "code",
   "execution_count": 2,
   "id": "f0618391",
   "metadata": {},
   "outputs": [],
   "source": [
    "# open a TTE file\n",
    "tte = TTE.open('glg_tte_n0_bn130504978_v00.fit')"
   ]
  },
  {
   "cell_type": "code",
   "execution_count": 3,
   "id": "3f944536",
   "metadata": {},
   "outputs": [
    {
     "data": {
      "text/plain": [
       "SIMPLE  =                    T / file does conform to FITS standard             \n",
       "BITPIX  =                    8 / number of bits per data pixel                  \n",
       "NAXIS   =                    0 / number of data axes                            \n",
       "EXTEND  =                    T / FITS dataset may contain extensions            \n",
       "COMMENT   FITS (Flexible Image Transport System) format is defined in 'Astronomy\n",
       "COMMENT   and Astrophysics', volume 376, page 359; bibcode: 2001A&A...376..359H \n",
       "CREATOR = 'make_trigger_TTE_file v1.2' / Software and version creating file     \n",
       "FILETYPE= 'GBM PHOTON LIST'    / Name for this type of FITS file                \n",
       "FILE-VER= '1.0.0   '           / Version of the format for this filetype        \n",
       "TELESCOP= 'GLAST   '           / Name of mission/satellite                      \n",
       "INSTRUME= 'GBM     '           / Specific instrument used for observation       \n",
       "DETNAM  = 'NAI_00  '           / Individual detector name                       \n",
       "OBSERVER= 'Meegan  '           / GLAST Burst Monitor P.I.                       \n",
       "ORIGIN  = 'GIOC    '           / Name of organization making file               \n",
       "DATE    = '2013-05-05T12:08:27' / file creation date (YYYY-MM-DDThh:mm:ss UT)   \n",
       "DATE-OBS= '2013-05-04T23:26:45' / Date of start of observation                  \n",
       "DATE-END= '2013-05-04T23:37:00' / Date of end of observation                    \n",
       "TIMESYS = 'TT      '           / Time system used in time keywords              \n",
       "TIMEUNIT= 's       '           / Time since MJDREF, used in TSTART and TSTOP    \n",
       "MJDREFI =                51910 / MJD of GLAST reference epoch, integer part     \n",
       "MJDREFF = 7.428703703703703D-4 / MJD of GLAST reference epoch, fractional part  \n",
       "TSTART  =     389402805.859832 / [GLAST MET] Observation start time             \n",
       "TSTOP   =     389403420.268392 / [GLAST MET] Observation stop time              \n",
       "FILENAME= 'glg_tte_n0_bn130504978_v00.fit' / Name of this file                  \n",
       "DATATYPE= 'TTE     '           / GBM datatype used for this file                \n",
       "TRIGTIME=     389402940.517622 / Trigger time relative to MJDREF, double precisi\n",
       "OBJECT  = 'GRB130504978'       / Burst name in standard format, yymmddfff       \n",
       "RADECSYS= 'FK5     '           / Stellar reference frame                        \n",
       "EQUINOX =               2000.0 / Equinox for RA and Dec                         \n",
       "RA_OBJ  =              30.0000 / Calculated RA of burst                         \n",
       "DEC_OBJ =              -15.000 / Calculated Dec of burst                        \n",
       "ERR_RAD =                3.000 / Calculated Location Error Radius               \n",
       "INFILE01= 'glg_lutcs_nai_121126640_v00.fit' / Level 1 input lookup table file   \n",
       "INFILE02= 'GLAST_2013125_091100_VC09_GBTTE.0.00' / Level 0 input data file      \n",
       "INFILE03= 'GLAST_2013125_091100_VC09_GBTTE.1.00' / Level 0 input data file      \n",
       "INFILE04= 'GLAST_2013125_091100_VC09_GBTTE.2.00' / Level 0 input data file      \n",
       "INFILE05= 'GLAST_2013125_091100_VC09_GBTTE.3.00' / Level 0 input data file      \n",
       "CHECKSUM= 'M1AlO15lM1AlM15l'   / HDU checksum updated 2013-05-05T12:08:27       \n",
       "DATASUM = '         0'         / data unit checksum updated 2013-05-05T12:08:27 "
      ]
     },
     "execution_count": 3,
     "metadata": {},
     "output_type": "execute_result"
    }
   ],
   "source": [
    "# print the metadata in the PRIMARY header\n",
    "tte.headers['PRIMARY']"
   ]
  },
  {
   "cell_type": "code",
   "execution_count": 4,
   "id": "64f151d9",
   "metadata": {},
   "outputs": [],
   "source": [
    "# bin to 1.024 s resolution, reference time is trigger time\n",
    "phaii = tte.to_phaii(bin_by_time, 1.024, time_ref=0.0)\n",
    "%matplotlib inline"
   ]
  },
  {
   "cell_type": "code",
   "execution_count": 11,
   "id": "0a4d88b1",
   "metadata": {},
   "outputs": [],
   "source": [
    "from gbm.plot import Lightcurve, Spectrum\n",
    "erange = (50.0, 300.0)\n",
    "time_split = (-20.0, 300.0)\n",
    "lc_data = phaii.to_lightcurve(time_range=time_split,energy_range=erange)\n",
    "#lcplot = Lightcurve(data=lc_data)"
   ]
  },
  {
   "cell_type": "code",
   "execution_count": 12,
   "id": "bbde0249",
   "metadata": {},
   "outputs": [],
   "source": [
    "#BKG extimation\n",
    "bkgd_times = [(115.0, 300.0)]\n",
    "# the background fitter interface\n",
    "from gbm.background import BackgroundFitter"
   ]
  },
  {
   "cell_type": "code",
   "execution_count": 13,
   "id": "d240f851",
   "metadata": {},
   "outputs": [],
   "source": [
    "from gbm.background.binned import Polynomial\n",
    "# we initialize our background fitter with the phaii object, the algorithm, and the time ranges to fit.\n",
    "# if we were using an unbinned algorithm, we'd call .from_tte() and give it tte instead of phaii\n",
    "backfitter = BackgroundFitter.from_phaii(phaii, Polynomial, time_ranges=bkgd_times)"
   ]
  },
  {
   "cell_type": "code",
   "execution_count": 14,
   "id": "ad6d735a",
   "metadata": {},
   "outputs": [],
   "source": [
    "# and once initialized, we can run the fit with the fitting parameters appropriate for our algorithm.\n",
    "# here, we'll do a 1st order polynomial\n",
    "backfitter.fit(order=1)"
   ]
  },
  {
   "cell_type": "code",
   "execution_count": 15,
   "id": "c3f90078",
   "metadata": {},
   "outputs": [],
   "source": [
    "#backfitter.statistic/backfitter.dof\n",
    "bkgd = backfitter.interpolate_bins(phaii.data.tstart, phaii.data.tstop)"
   ]
  },
  {
   "cell_type": "code",
   "execution_count": 16,
   "id": "fa58154b",
   "metadata": {},
   "outputs": [
    {
     "data": {
      "image/png": "[encoded data removed]",
      "text/plain": [
       "<Figure size 770x470 with 1 Axes>"
      ]
     },
     "metadata": {},
     "output_type": "display_data"
    }
   ],
   "source": [
    "lc_bkgd = bkgd.integrate_energy(*erange)\n",
    "lcplot = Lightcurve(data=lc_data, background=lc_bkgd)\n",
    "plt.show()"
   ]
  }
 ],
 "metadata": {
  "kernelspec": {
   "display_name": "Python 3 (ipykernel)",
   "language": "python",
   "name": "python3"
  },
  "language_info": {
   "codemirror_mode": {
    "name": "ipython",
    "version": 3
   },
   "file_extension": ".py",
   "mimetype": "text/x-python",
   "name": "python",
   "nbconvert_exporter": "python",
   "pygments_lexer": "ipython3",
   "version": "3.8.10"
  }
 },
 "nbformat": 4,
 "nbformat_minor": 5
}
