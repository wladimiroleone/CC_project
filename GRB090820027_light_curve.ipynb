{
 "cells": [
  {
   "cell_type": "code",
   "execution_count": 1,
   "id": "1d2e22b5",
   "metadata": {},
   "outputs": [
    {
     "name": "stderr",
     "output_type": "stream",
     "text": [
      "/home/wlad98/gbm/lib/python3.8/site-packages/gbm/plot/lal_post_subs.py:184: UserWarning: Basemap not installed. Some functionality not available.\n",
      "  warnings.warn('Basemap not installed. Some functionality not available.')\n"
     ]
    }
   ],
   "source": [
    "from gbm import test_data_dir\n",
    "from gbm.data import TTE\n",
    "from gbm.binning.unbinned import bin_by_time\n",
    "import matplotlib.pyplot as plt\n",
    "\n"
   ]
  },
  {
   "cell_type": "code",
   "execution_count": 2,
   "id": "8c51393a",
   "metadata": {},
   "outputs": [],
   "source": [
    "# open TTEs file as a list to merge at the end\n",
    "tte_merge=[]\n",
    "\n",
    "for i in range (9):\n",
    "    n_i=TTE.open('bn090820027/glg_tte_n'+str(i)+'_bn090820027_v00.fit')\n",
    "    tte_merge.append(n_i)"
   ]
  },
  {
   "cell_type": "code",
   "execution_count": 3,
   "id": "6f0554fb",
   "metadata": {},
   "outputs": [
    {
     "data": {
      "text/plain": [
       "CREATOR = 'GBM Data Tools 1.1.1 Software and version creating file'             \n",
       "FILETYPE= 'GBM PHOTON LIST'    / Name for this type of FITS file                \n",
       "FILE-VER= '1.0.0   '           / Version of the format for this filetype        \n",
       "TELESCOP= 'GLAST   '           / Name of mission/satellite                      \n",
       "INSTRUME= 'GBM     '           / Specific instrument used for observation       \n",
       "DETNAM  = 'NAI_00  '           / Individual detector name                       \n",
       "OBSERVER= 'Meegan  '           / GLAST Burst Monitor P.I.                       \n",
       "ORIGIN  = 'GIOC    '           / Name of organization making file               \n",
       "DATE    = '2023-02-01T13:15:37' / file creation date (YYYY-MM-DDThh:mm:ss UT)   \n",
       "DATE-OBS= '2009-08-20T00:37:48' / Date of start of observation                  \n",
       "DATE-END= '2009-08-20T00:43:17' / Date of end of observation                    \n",
       "TIMESYS = 'TT      '           / Time system used in time keywords              \n",
       "TIMEUNIT= 's       '           / Time since MJDREF, used in TSTART and TSTOP    \n",
       "MJDREFI =                51910 / MJD of GLAST reference epoch, integer part     \n",
       "MJDREFF = '7.428703703703703e-4' / MJD of GLAST reference epoch, fractional part\n",
       "TSTART  =     272421470.698284 / [GLAST MET] Observation start time             \n",
       "TSTOP   =     272421799.049578 / [GLAST MET] Observation stop time              \n",
       "FILENAME=  / Name of this file                                                  \n",
       "TRIGTIME=     272421498.188692 / Trigger time relative to MJDREF, double precisi\n",
       "OBJECT  = 'GRB090820027'       / Burst name in standard format, yymmddfff       \n",
       "RADECSYS= 'FK5     '           / Stellar reference frame                        \n",
       "EQUINOX =               2000.0 / Equinox for RA and Dec                         \n",
       "RA_OBJ  =                 30.0 / Calculated RA of burst                         \n",
       "DEC_OBJ =                -15.0 / Calculated Dec of burst                        \n",
       "ERR_RAD =                  3.0 / Calculated Location Error Radius               \n",
       "INFILE01=  / Level 1 input lookup table file                                    "
      ]
     },
     "execution_count": 3,
     "metadata": {},
     "output_type": "execute_result"
    }
   ],
   "source": [
    "# print the metadata in the PRIMARY header\n",
    "tte=TTE.merge(tte_merge, force_unique=True)\n",
    "tte.headers['PRIMARY']"
   ]
  },
  {
   "cell_type": "code",
   "execution_count": 4,
   "id": "1ebd4669",
   "metadata": {},
   "outputs": [],
   "source": [
    "# bin to 1.024 s resolution, reference time is trigger time\n",
    "phaii = tte.to_phaii(bin_by_time, 1.024, time_ref=0.0)\n",
    "%matplotlib inline"
   ]
  },
  {
   "cell_type": "code",
   "execution_count": 5,
   "id": "3264d5b5",
   "metadata": {},
   "outputs": [],
   "source": [
    "#Producing the Light curve\n",
    "from gbm.plot import Lightcurve, Spectrum\n",
    "#Selecting Energy range and time interval of the light curve\n",
    "erange = (50.0, 300.0)\n",
    "time_split = (-20.0, 300.0)\n",
    "lc_data = phaii.to_lightcurve(time_range=time_split,energy_range=erange)"
   ]
  },
  {
   "cell_type": "code",
   "execution_count": 6,
   "id": "3feb05ea",
   "metadata": {},
   "outputs": [],
   "source": [
    "#BKG extimation, selecting the BKG intervals\n",
    "bkgd_times = [(-20.0, 30.0), (45.0, 300.0)]"
   ]
  },
  {
   "cell_type": "code",
   "execution_count": 7,
   "id": "10821fc8",
   "metadata": {},
   "outputs": [],
   "source": [
    "# the background fitter interface\n",
    "from gbm.background import BackgroundFitter\n",
    "# GBM fitting algorithm\n",
    "from gbm.background.binned import Polynomial\n",
    "# we initialize our background fitter with the phaii object, the algorithm, and the time ranges to fit.\n",
    "# if we were using an unbinned algorithm, we'd call .from_tte() and give it tte instead of phaii\n",
    "backfitter = BackgroundFitter.from_phaii(phaii, Polynomial, time_ranges=bkgd_times)\n",
    "\n"
   ]
  },
  {
   "cell_type": "code",
   "execution_count": 8,
   "id": "041b0b4c",
   "metadata": {},
   "outputs": [],
   "source": [
    "# and once initialized, we can run the fit with the fitting parameters appropriate for our algorithm.\n",
    "# here, we'll do a 2st order polynomial\n",
    "backfitter.fit(order=2)\n",
    "#backfitter.statistic/backfitter.dof\n",
    "bkgd = backfitter.interpolate_bins(phaii.data.tstart, phaii.data.tstop)"
   ]
  },
  {
   "cell_type": "code",
   "execution_count": 9,
   "id": "312c101f",
   "metadata": {},
   "outputs": [
    {
     "data": {
      "image/png": "[encoded data removed]",
      "text/plain": [
       "<Figure size 770x470 with 1 Axes>"
      ]
     },
     "metadata": {},
     "output_type": "display_data"
    }
   ],
   "source": [
    "lc_bkgd = bkgd.integrate_energy(*erange)\n",
    "lcplot = Lightcurve(data=lc_data, background=lc_bkgd)\n",
    "plt.show()"
   ]
  }
 ],
 "metadata": {
  "kernelspec": {
   "display_name": "Python 3 (ipykernel)",
   "language": "python",
   "name": "python3"
  },
  "language_info": {
   "codemirror_mode": {
    "name": "ipython",
    "version": 3
   },
   "file_extension": ".py",
   "mimetype": "text/x-python",
   "name": "python",
   "nbconvert_exporter": "python",
   "pygments_lexer": "ipython3",
   "version": "3.8.10"
  }
 },
 "nbformat": 4,
 "nbformat_minor": 5
}
