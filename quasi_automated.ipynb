{
 "cells": [
  {
   "cell_type": "code",
   "execution_count": 226,
   "id": "f083bfd8",
   "metadata": {},
   "outputs": [],
   "source": [
    "from gbm import test_data_dir\n",
    "from gbm.data import TTE\n",
    "from gbm.binning.unbinned import bin_by_time\n",
    "import matplotlib.pyplot as plt\n",
    "from gbm.data import PosHist\n",
    "from gbm.data import Trigdat"
   ]
  },
  {
   "cell_type": "code",
   "execution_count": 227,
   "id": "620f2066",
   "metadata": {},
   "outputs": [
    {
     "name": "stdout",
     "output_type": "stream",
     "text": [
      "What GRB lc do you want to plot?\n"
     ]
    }
   ],
   "source": [
    "print('What GRB lc do you want to plot?')\n",
    "#GRB090820027\n",
    "#GRB090902462\n",
    "#GRB120624933\n",
    "#GRB130427324\n",
    "GRB = '130427324'#input()\n",
    "data_selected = GRB.replace('GRB','')\n",
    "tte=TTE.open('bn'+str(data_selected)+'/glg_tte_n0_bn'+str(data_selected)+'_v00.fit')"
   ]
  },
  {
   "cell_type": "code",
   "execution_count": 228,
   "id": "64155c3f",
   "metadata": {},
   "outputs": [
    {
     "name": "stdout",
     "output_type": "stream",
     "text": [
      "triggered detectors are: ['n6', 'n9', 'na', 'nb']\n"
     ]
    }
   ],
   "source": [
    "trigdat = Trigdat.open('bn'+str(data_selected)+'/glg_trigdat_all_bn'+str(data_selected)+'_v01.fit')\n",
    "trigdat.headers.keys()\n",
    "phaii = trigdat.to_ctime('n0')\n",
    "trig_dets = trigdat.triggered_detectors\n",
    "print('triggered detectors are:',str(trig_dets))"
   ]
  },
  {
   "cell_type": "code",
   "execution_count": 229,
   "id": "412bdced",
   "metadata": {},
   "outputs": [
    {
     "name": "stdout",
     "output_type": "stream",
     "text": [
      "(array(237.96040552), array(51.12719716))\n",
      "(array(180.36959589), array(27.44841937))\n",
      "(array(156.63887684), array(-12.39818322))\n",
      "(array(219.04938811), array(-22.08473509))\n"
     ]
    }
   ],
   "source": [
    "daily_data=str(data_selected)[0:6]\n",
    "poshist = PosHist.open('bn'+str(data_selected)+'/glg_poshist_all_'+str(daily_data)+'_v00.fit')\n",
    "poshist.get_saa_passage(tte.trigtime)\n",
    "for i in range (len(trig_dets)):\n",
    "    print(poshist.detector_pointing(trig_dets[i],tte.trigtime))"
   ]
  },
  {
   "cell_type": "code",
   "execution_count": 230,
   "id": "706dc506",
   "metadata": {},
   "outputs": [
    {
     "name": "stdout",
     "output_type": "stream",
     "text": [
      "Ra and Dec position of the burst: (173.1),(27.7)\n",
      "Triggered detectors that see the GRB with an angular distance <60 deg are:\n",
      "['n6', 'n9', 'na']\n"
     ]
    }
   ],
   "source": [
    "#Check on the angular distance between the GRB position and the \n",
    "#detector pointing. Are selected only detector whose ang_dis<60 deg\n",
    "import numpy as np\n",
    "\n",
    "# read the file into a list of lines\n",
    "with open('source_localization.txt','r') as f:\n",
    "    lines = f.read().split(\"\\n\")\n",
    "\n",
    "word = data_selected # dummy word. you take it from input\n",
    "d=-1\n",
    "# iterate over lines, and print out line numbers which contain\n",
    "# the word of interest.\n",
    "for i,line in enumerate(lines):\n",
    "    d=d+1\n",
    "    if word in line: # or word in line.split() to search for full words\n",
    "        c=d\n",
    "        \n",
    "data=np.genfromtxt('source_localization.txt')\n",
    "GRB_ra=data[c,1]\n",
    "GRB_dec=data[c,2]\n",
    "\n",
    "print('Ra and Dec position of the burst:','('+str(GRB_ra)+')'+',''('+str(GRB_dec)+')')\n",
    "detection_angle=np.zeros(len(trig_dets))\n",
    "checked_detectors=[]\n",
    "for i in range (len(trig_dets)):\n",
    "    detection_angle[i]=poshist.detector_angle(GRB_ra,GRB_dec,trig_dets[i],tte.trigtime)\n",
    "    if(detection_angle[i]<60):\n",
    "        checked_detectors.append(trig_dets[i])\n",
    "print('Triggered detectors that see the GRB with an angular distance <60 deg are:')\n",
    "print(checked_detectors)"
   ]
  },
  {
   "cell_type": "code",
   "execution_count": 231,
   "id": "26f66820",
   "metadata": {},
   "outputs": [
    {
     "name": "stdout",
     "output_type": "stream",
     "text": [
      "reading file: bn130427324/glg_tte_n6_bn130427324_v00.fit\n",
      "reading file: bn130427324/glg_tte_n9_bn130427324_v00.fit\n",
      "reading file: bn130427324/glg_tte_na_bn130427324_v00.fit\n"
     ]
    }
   ],
   "source": [
    "# open TTEs file as a list to merge at the end\n",
    "#Detectors selected are those who triggered the burst and see it with\n",
    "#an angular distanc <60 deg\n",
    "tte_merge=[]\n",
    "\n",
    "for i in range (len(checked_detectors)):\n",
    "    print('reading file:','bn'+str(data_selected)+'/glg_tte_'+str(checked_detectors[i])+'_bn'+str(data_selected)+'_v00.fit')\n",
    "    n_i=TTE.open('bn'+str(data_selected)+'/glg_tte_'+str(checked_detectors[i])+'_bn'+str(data_selected)+'_v00.fit')\n",
    "    tte_merge.append(n_i)"
   ]
  },
  {
   "cell_type": "code",
   "execution_count": 232,
   "id": "40628f2e",
   "metadata": {},
   "outputs": [
    {
     "data": {
      "text/plain": [
       "CREATOR = 'GBM Data Tools 1.1.1 Software and version creating file'             \n",
       "FILETYPE= 'GBM PHOTON LIST'    / Name for this type of FITS file                \n",
       "FILE-VER= '1.0.0   '           / Version of the format for this filetype        \n",
       "TELESCOP= 'GLAST   '           / Name of mission/satellite                      \n",
       "INSTRUME= 'GBM     '           / Specific instrument used for observation       \n",
       "DETNAM  = 'NAI_06  '           / Individual detector name                       \n",
       "OBSERVER= 'Meegan  '           / GLAST Burst Monitor P.I.                       \n",
       "ORIGIN  = 'GIOC    '           / Name of organization making file               \n",
       "DATE    = '2023-02-03T15:16:53' / file creation date (YYYY-MM-DDThh:mm:ss UT)   \n",
       "DATE-OBS= '2013-04-27T07:44:50' / Date of start of observation                  \n",
       "DATE-END= '2013-04-27T07:55:04' / Date of end of observation                    \n",
       "TIMESYS = 'TT      '           / Time system used in time keywords              \n",
       "TIMEUNIT= 's       '           / Time since MJDREF, used in TSTART and TSTOP    \n",
       "MJDREFI =                51910 / MJD of GLAST reference epoch, integer part     \n",
       "MJDREFF = '7.428703703703703e-4' / MJD of GLAST reference epoch, fractional part\n",
       "TSTART  =     388741493.226786 / [GLAST MET] Observation start time             \n",
       "TSTOP   =     388742107.635114 / [GLAST MET] Observation stop time              \n",
       "FILENAME=  / Name of this file                                                  \n",
       "TRIGTIME=     388741629.420158 / Trigger time relative to MJDREF, double precisi\n",
       "OBJECT  = 'GRB130427324'       / Burst name in standard format, yymmddfff       \n",
       "RADECSYS= 'FK5     '           / Stellar reference frame                        \n",
       "EQUINOX =               2000.0 / Equinox for RA and Dec                         \n",
       "RA_OBJ  =                 30.0 / Calculated RA of burst                         \n",
       "DEC_OBJ =                -15.0 / Calculated Dec of burst                        \n",
       "ERR_RAD =                  3.0 / Calculated Location Error Radius               \n",
       "INFILE01=  / Level 1 input lookup table file                                    "
      ]
     },
     "execution_count": 232,
     "metadata": {},
     "output_type": "execute_result"
    }
   ],
   "source": [
    "# print the metadata in the PRIMARY header\n",
    "tte=TTE.merge(tte_merge, force_unique=True)\n",
    "tte.headers['PRIMARY']"
   ]
  },
  {
   "cell_type": "code",
   "execution_count": 233,
   "id": "6592fe97",
   "metadata": {},
   "outputs": [],
   "source": [
    "s=str(tte.headers['PRIMARY'])\n",
    "start='DATE-OBS'\n",
    "end='Date of start of observation'\n",
    "s=(s.split(start))[1].split(end)[0]\n",
    "import re\n",
    "last_num=re.findall(r'\\d+', s)[-1]\n",
    "temp=re.findall(r'^\\D*(\\d+)',s)\n",
    "first_num=temp[0]\n",
    "start=str(first_num)\n",
    "end=str(last_num)\n",
    "s=(s.split(start))[1].split(end)[0]\n",
    "data_obs=start+s+end\n",
    "met=Met.from_iso(str(data_obs))\n",
    "data_obs_met=met.met"
   ]
  },
  {
   "cell_type": "code",
   "execution_count": 234,
   "id": "432ce30a",
   "metadata": {},
   "outputs": [],
   "source": [
    "GRB_trig_time=int(tte.trigtime-data_obs_met)\n",
    "BKG_start_time=int(tte.trigtime-data_obs_met+tte.time_range[0])"
   ]
  },
  {
   "cell_type": "code",
   "execution_count": 235,
   "id": "c7e8f48f",
   "metadata": {},
   "outputs": [],
   "source": [
    "# bin to 1.024 s resolution, reference time is trigger time\n",
    "phaii = tte.to_phaii(bin_by_time, 1.024, time_ref=0.0)\n",
    "%matplotlib inline"
   ]
  },
  {
   "cell_type": "code",
   "execution_count": 236,
   "id": "875955ec",
   "metadata": {},
   "outputs": [],
   "source": [
    "#Producing the Light curve\n",
    "from gbm.plot import Lightcurve, Spectrum\n",
    "#Selecting Energy range and time interval of the light curve\n",
    "erange = (50.0, 300.0)\n",
    "time_split = tte.gti[0]\n",
    "lc_data = phaii.to_lightcurve(time_range=time_split,energy_range=erange)"
   ]
  },
  {
   "cell_type": "code",
   "execution_count": 237,
   "id": "e5563e74",
   "metadata": {},
   "outputs": [
    {
     "name": "stdout",
     "output_type": "stream",
     "text": [
      "[(-136.193952023983, -5), (186, 478.21507197618484)]\n"
     ]
    }
   ],
   "source": [
    "#BKG extimation, selecting the BKG intervals\n",
    "bkgd_times = [(time_split[0],BKG_start_time-5), (GRB_trig_time+50,time_split[1])]\n",
    "print(bkgd_times)"
   ]
  },
  {
   "cell_type": "code",
   "execution_count": 238,
   "id": "de65e9fd",
   "metadata": {},
   "outputs": [],
   "source": [
    "# the background fitter interface\n",
    "from gbm.background import BackgroundFitter\n",
    "# GBM fitting algorithm\n",
    "from gbm.background.binned import Polynomial\n",
    "# we initialize our background fitter with the phaii object, the algorithm, and the time ranges to fit.\n",
    "# if we were using an unbinned algorithm, we'd call .from_tte() and give it tte instead of phaii\n",
    "backfitter = BackgroundFitter.from_phaii(phaii, Polynomial, time_ranges=bkgd_times)"
   ]
  },
  {
   "cell_type": "code",
   "execution_count": 239,
   "id": "29cdba10",
   "metadata": {},
   "outputs": [],
   "source": [
    "# and once initialized, we can run the fit with the fitting parameters appropriate for our algorithm.\n",
    "# here, we'll do a 2st order polynomial\n",
    "backfitter.fit(order=1)\n",
    "#backfitter.statistic/backfitter.dof\n",
    "bkgd = backfitter.interpolate_bins(phaii.data.tstart, phaii.data.tstop)"
   ]
  },
  {
   "cell_type": "code",
   "execution_count": 240,
   "id": "f765d855",
   "metadata": {},
   "outputs": [
    {
     "data": {
      "image/png": "[encoded data removed]",
      "text/plain": [
       "<Figure size 770x470 with 1 Axes>"
      ]
     },
     "metadata": {},
     "output_type": "display_data"
    }
   ],
   "source": [
    "lc_bkgd = bkgd.integrate_energy(*erange)\n",
    "lcplot = Lightcurve(data=lc_data, background=lc_bkgd)\n",
    "plt.show()"
   ]
  },
  {
   "cell_type": "code",
   "execution_count": 241,
   "id": "1b8fab5a",
   "metadata": {},
   "outputs": [
    {
     "data": {
      "image/png": "[encoded data removed]",
      "text/plain": [
       "<Figure size 770x470 with 1 Axes>"
      ]
     },
     "metadata": {},
     "output_type": "display_data"
    }
   ],
   "source": [
    "# bin to 0.1 s resolution, reference time is trigger time\n",
    "phaii = tte.to_phaii(bin_by_time, 0.1, time_ref=0.0)\n",
    "%matplotlib inline\n",
    "#Producing the Light curve\n",
    "from gbm.plot import Lightcurve, Spectrum\n",
    "#Selecting Energy range and time interval of the light curve\n",
    "erange = (50.0, 300.0)\n",
    "#Selecting a new time interval to plot the lc\n",
    "time_split = (time_split[0], GRB_trig_time+30)\n",
    "lc_data = phaii.to_lightcurve(time_range=time_split,energy_range=erange)\n",
    "#BKG extimation, selecting the BKG intervals\n",
    "bkgd_times = [(time_split[0], BKG_start_time)]\n",
    "# the background fitter interface\n",
    "from gbm.background import BackgroundFitter\n",
    "# GBM fitting algorithm\n",
    "from gbm.background.binned import Polynomial\n",
    "# we initialize our background fitter with the phaii object, the algorithm, and the time ranges to fit.\n",
    "# if we were using an unbinned algorithm, we'd call .from_tte() and give it tte instead of phaii\n",
    "backfitter = BackgroundFitter.from_phaii(phaii, Polynomial, time_ranges=bkgd_times)\n",
    "# and once initialized, we can run the fit with the fitting parameters appropriate for our algorithm.\n",
    "# here, we'll do a 2st order polynomial\n",
    "backfitter.fit(order=1)\n",
    "#backfitter.statistic/backfitter.dof\n",
    "bkgd = backfitter.interpolate_bins(phaii.data.tstart, phaii.data.tstop)\n",
    "lc_bkgd = bkgd.integrate_energy(*erange)\n",
    "lcplot = Lightcurve(data=lc_data, background=lc_bkgd)\n",
    "plt.show()"
   ]
  },
  {
   "cell_type": "code",
   "execution_count": null,
   "id": "a9e715fc",
   "metadata": {},
   "outputs": [],
   "source": []
  }
 ],
 "metadata": {
  "kernelspec": {
   "display_name": "Python 3 (ipykernel)",
   "language": "python",
   "name": "python3"
  },
  "language_info": {
   "codemirror_mode": {
    "name": "ipython",
    "version": 3
   },
   "file_extension": ".py",
   "mimetype": "text/x-python",
   "name": "python",
   "nbconvert_exporter": "python",
   "pygments_lexer": "ipython3",
   "version": "3.8.10"
  }
 },
 "nbformat": 4,
 "nbformat_minor": 5
}
