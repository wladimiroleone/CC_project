{
 "cells": [
  {
   "cell_type": "code",
   "execution_count": 5,
   "id": "1b0a0918",
   "metadata": {},
   "outputs": [],
   "source": [
    "from gbm import test_data_dir\n",
    "from gbm.data import TTE\n",
    "from gbm.binning.unbinned import bin_by_time\n",
    "import matplotlib.pyplot as plt"
   ]
  },
  {
   "cell_type": "code",
   "execution_count": 6,
   "id": "52f706f4",
   "metadata": {},
   "outputs": [
    {
     "data": {
      "text/plain": [
       "SIMPLE  =                    T / file does conform to FITS standard             \n",
       "BITPIX  =                    8 / number of bits per data pixel                  \n",
       "NAXIS   =                    0 / number of data axes                            \n",
       "EXTEND  =                    T / FITS dataset may contain extensions            \n",
       "COMMENT   FITS (Flexible Image Transport System) format is defined in 'Astronomy\n",
       "COMMENT   and Astrophysics', volume 376, page 359; bibcode: 2001A&A...376..359H \n",
       "CREATOR = 'make_trigger_TTE_file v1.2' / Software and version creating file     \n",
       "FILETYPE= 'GBM PHOTON LIST'    / Name for this type of FITS file                \n",
       "FILE-VER= '1.0.0   '           / Version of the format for this filetype        \n",
       "TELESCOP= 'GLAST   '           / Name of mission/satellite                      \n",
       "INSTRUME= 'GBM     '           / Specific instrument used for observation       \n",
       "DETNAM  = 'NAI_00  '           / Individual detector name                       \n",
       "OBSERVER= 'Meegan  '           / GLAST Burst Monitor P.I.                       \n",
       "ORIGIN  = 'GIOC    '           / Name of organization making file               \n",
       "DATE    = '2013-04-27T16:22:19' / file creation date (YYYY-MM-DDThh:mm:ss UT)   \n",
       "DATE-OBS= '2013-04-27T07:44:53' / Date of start of observation                  \n",
       "DATE-END= '2013-04-27T07:55:07' / Date of end of observation                    \n",
       "TIMESYS = 'TT      '           / Time system used in time keywords              \n",
       "TIMEUNIT= 's       '           / Time since MJDREF, used in TSTART and TSTOP    \n",
       "MJDREFI =                51910 / MJD of GLAST reference epoch, integer part     \n",
       "MJDREFF = 7.428703703703703D-4 / MJD of GLAST reference epoch, fractional part  \n",
       "TSTART  =     388741493.226206 / [GLAST MET] Observation start time             \n",
       "TSTOP   =     388742107.635230 / [GLAST MET] Observation stop time              \n",
       "FILENAME= 'glg_tte_n0_bn130427324_v00.fit' / Name of this file                  \n",
       "DATATYPE= 'TTE     '           / GBM datatype used for this file                \n",
       "TRIGTIME=     388741629.420158 / Trigger time relative to MJDREF, double precisi\n",
       "OBJECT  = 'GRB130427324'       / Burst name in standard format, yymmddfff       \n",
       "RADECSYS= 'FK5     '           / Stellar reference frame                        \n",
       "EQUINOX =               2000.0 / Equinox for RA and Dec                         \n",
       "RA_OBJ  =              30.0000 / Calculated RA of burst                         \n",
       "DEC_OBJ =              -15.000 / Calculated Dec of burst                        \n",
       "ERR_RAD =                3.000 / Calculated Location Error Radius               \n",
       "INFILE01= 'glg_lutcs_nai_121126640_v00.fit' / Level 1 input lookup table file   \n",
       "INFILE02= 'GLAST_2013117_134100_VC09_GBTTE.0.00' / Level 0 input data file      \n",
       "INFILE03= 'GLAST_2013117_134100_VC09_GBTTE.1.00' / Level 0 input data file      \n",
       "CHECKSUM= 'aA9GbA9GaA9GaA9G'   / HDU checksum updated 2013-04-27T16:22:19       \n",
       "DATASUM = '         0'         / data unit checksum updated 2013-04-27T16:22:19 "
      ]
     },
     "execution_count": 6,
     "metadata": {},
     "output_type": "execute_result"
    }
   ],
   "source": [
    "tte = TTE.open('glg_tte_n0_bn130427324_v00.fit')\n",
    "# print the metadata in the PRIMARY header\n",
    "tte.headers['PRIMARY']"
   ]
  },
  {
   "cell_type": "code",
   "execution_count": 7,
   "id": "c5ce25ea",
   "metadata": {},
   "outputs": [],
   "source": [
    "# bin to 1.024 s resolution, reference time is trigger time\n",
    "phaii = tte.to_phaii(bin_by_time, 1.024, time_ref=0.0)\n",
    "%matplotlib inline"
   ]
  },
  {
   "cell_type": "code",
   "execution_count": 8,
   "id": "97abde34",
   "metadata": {},
   "outputs": [],
   "source": [
    "from gbm.plot import Lightcurve, Spectrum\n",
    "erange = (50.0, 300.0)\n",
    "time_split = (-20.0, 300.0)\n",
    "lc_data = phaii.to_lightcurve(time_range=time_split,energy_range=erange)\n",
    "#lcplot = Lightcurve(data=lc_data)"
   ]
  },
  {
   "cell_type": "code",
   "execution_count": 9,
   "id": "8edef8f0",
   "metadata": {},
   "outputs": [],
   "source": [
    "#BKG extimation\n",
    "bkgd_times = [(-20.0, 0.0) , (21.0 , 300.0)]\n",
    "# the background fitter interface\n",
    "from gbm.background import BackgroundFitter\n",
    "# our fitting algorithm\n",
    "from gbm.background.binned import Polynomial\n",
    "# we initialize our background fitter with the phaii object, the algorithm, and the time ranges to fit.\n",
    "# if we were using an unbinned algorithm, we'd call .from_tte() and give it tte instead of phaii\n",
    "backfitter = BackgroundFitter.from_phaii(phaii, Polynomial, time_ranges=bkgd_times)"
   ]
  },
  {
   "cell_type": "code",
   "execution_count": 10,
   "id": "ef865aec",
   "metadata": {},
   "outputs": [
    {
     "data": {
      "image/png": "[encoded data removed]",
      "text/plain": [
       "<Figure size 770x470 with 1 Axes>"
      ]
     },
     "metadata": {},
     "output_type": "display_data"
    }
   ],
   "source": [
    "# and once initialized, we can run the fit with the fitting parameters appropriate for our algorithm.\n",
    "# here, we'll do a 1st order polynomial\n",
    "backfitter.fit(order=1)\n",
    "#backfitter.statistic/backfitter.dof\n",
    "bkgd = backfitter.interpolate_bins(phaii.data.tstart, phaii.data.tstop)\n",
    "#type(bkgd)\n",
    "lc_bkgd = bkgd.integrate_energy(*erange)\n",
    "lcplot = Lightcurve(data=lc_data, background=lc_bkgd)\n",
    "plt.show()"
   ]
  }
 ],
 "metadata": {
  "kernelspec": {
   "display_name": "Python 3 (ipykernel)",
   "language": "python",
   "name": "python3"
  },
  "language_info": {
   "codemirror_mode": {
    "name": "ipython",
    "version": 3
   },
   "file_extension": ".py",
   "mimetype": "text/x-python",
   "name": "python",
   "nbconvert_exporter": "python",
   "pygments_lexer": "ipython3",
   "version": "3.8.10"
  }
 },
 "nbformat": 4,
 "nbformat_minor": 5
}
